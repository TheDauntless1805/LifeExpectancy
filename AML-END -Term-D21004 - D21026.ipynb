{
 "cells": [
  {
   "cell_type": "markdown",
   "id": "1e001a9b",
   "metadata": {},
   "source": [
    "## Name - Anchal Garg\n",
    "## Roll no - D21004\n",
    "## Name - Preethi Vijayaraghavalu\n",
    "## Roll no - D21026"
   ]
  },
  {
   "cell_type": "markdown",
   "id": "c8b1a2b4",
   "metadata": {},
   "source": [
    "#### A typical Regression Machine Learning project leverages historical data to predict insights into the future. This problem statement is aimed at Predicting the Life Expectancy rate of a country given various features. \n",
    "\n",
    "#### Life expectancy is a statistical measure of the average time a human being is expected to live, Life expectancy depends on various factors: Regional variations, Economic Circumstances, Sex Differences, Mental Illnesses, Physical Illnesses, Education, Year of their birth and other demographic factors. This problem statement provides a way to predict average life expectancy of people living in a country when various factors such as year, GDP, education, alcohol intake of people in the country, expenditure on healthcare system and some specific disease related deaths that happened in the country are given."
   ]
  },
  {
   "cell_type": "markdown",
   "id": "d5c6363d",
   "metadata": {},
   "source": [
    "##  Dataset Columns Explanation:\n",
    "\n",
    "1. Life expectancy = Average life expectancy in years\n",
    "2. Infant deaths = Number of Infant Deaths per 1000 population\n",
    "3. Alcohol = Alcohol, recorded per capita (15+) consumption (in litres of pure alcohol)\n",
    "4. percentage expenditure = Expenditure on health as a percentage of Gross Domestic Product per capita(%)\n",
    "5. HepatitisB = Hepatitis B (HepB) immunization coverage among 1-year-olds (%)\n",
    "6. Measles = Number of reported cases\n",
    "7. BMI = Prevalence of overweight among adults, BMI ≥ 25, crude\n",
    "8. under-five deaths = Number of under-five deaths per 1000 population\n",
    "9. Total expenditure = General government expenditure on health as a percentage of total government expenditure (%)\n",
    "10. HIV/AIDS = Deaths per 1000 live births HIV/AIDS (0-4 years)\n",
    "11. GDP = Gross Domestic Product in USD\n",
    "12. Population = Population of the country\n",
    "13. thinness1-19years = Prevalence of thinness among children and adolescents for Age 10 to 19 (% )\n",
    "14. thinness5-9years = Prevalence of thinness among children for Age 5 to 9(%)\n",
    "15. Income composition of resources = Relative share of each income source or group of sources, expressed as a percentage of the aggregate total income of that group or area.\n",
    "16. Schooling = Number of years of Schooling\n",
    "17. Adult Mortality = Adult Mortality Rates of both sexes (probability of dying between 15 and 60 years per 1000 population)\n",
    "18. Polio = Polio (Pol3) immunization coverage among 1-year-olds (%)\n",
    "19. Diphtheria = Diphtheria tetanus toxoid and pertussis (DTP3) immunization coverage among 1-year-olds (%)"
   ]
  },
  {
   "cell_type": "markdown",
   "id": "6a52d27d",
   "metadata": {},
   "source": [
    "## Importing required libraries"
   ]
  },
  {
   "cell_type": "code",
   "execution_count": 1,
   "id": "436a1dcc",
   "metadata": {},
   "outputs": [],
   "source": [
    "\n",
    "import os\n",
    "import pandas as pd\n",
    "import numpy as np\n",
    "import matplotlib.pyplot as plt\n",
    "from sklearn.metrics import confusion_matrix\n",
    "from sklearn.model_selection import train_test_split\n",
    "from sklearn.ensemble import RandomForestRegressor \n",
    "from sklearn.tree import DecisionTreeRegressor \n",
    "from sklearn import linear_model\n",
    "from sklearn.model_selection import cross_val_score\n",
    "from sklearn.linear_model import LinearRegression\n",
    "import seaborn\n"
   ]
  },
  {
   "cell_type": "markdown",
   "id": "867ad216",
   "metadata": {},
   "source": [
    "## Getting the directory"
   ]
  },
  {
   "cell_type": "code",
   "execution_count": 34,
   "id": "f56c4e7f",
   "metadata": {},
   "outputs": [],
   "source": [
    "\n",
    "os.getcwd()\n",
    "\n",
    "os.chdir(\"Users/preetvilu/Downloads\")"
   ]
  },
  {
   "cell_type": "markdown",
   "id": "4fa00380",
   "metadata": {},
   "source": [
    "## Reading Dataset"
   ]
  },
  {
   "cell_type": "code",
   "execution_count": 2,
   "id": "0c672f5a",
   "metadata": {},
   "outputs": [
    {
     "data": {
      "text/plain": [
       "(2938, 22)"
      ]
     },
     "execution_count": 2,
     "metadata": {},
     "output_type": "execute_result"
    }
   ],
   "source": [
    "\n",
    "data1= pd.read_csv(\"/Users/preetvilu/Downloads/after_eda_data.csv\")\n",
    "data1.shape"
   ]
  },
  {
   "cell_type": "markdown",
   "id": "6b4dd44f",
   "metadata": {},
   "source": [
    "## Renaming the columns"
   ]
  },
  {
   "cell_type": "code",
   "execution_count": 3,
   "id": "139942bc",
   "metadata": {},
   "outputs": [
    {
     "data": {
      "text/plain": [
       "Index(['Country', 'Year', 'Status', 'Life_expectancy', 'Adult_Mortality',\n",
       "       'infant_deaths', 'Alcohol', 'percentage_expenditure', 'Hepatitis_B',\n",
       "       'Measles', 'BMI', 'under_5_deaths', 'Polio', 'Total_expenditure',\n",
       "       'Diphtheria', 'HIV_AIDS', 'GDP', 'Population', 'thinness1_19',\n",
       "       'thinness5_9', 'Inc_com_resouce', 'Schooling'],\n",
       "      dtype='object')"
      ]
     },
     "execution_count": 3,
     "metadata": {},
     "output_type": "execute_result"
    }
   ],
   "source": [
    "data1.rename(columns = {'Life.expectancy':'Life_expectancy',\"Adult.Mortality\":\"Adult_Mortality\",\n",
    "                       \"infant.deaths\":\"infant_deaths\",\"percentage.expenditure\":'percentage_expenditure',\n",
    "                       \"Hepatitis.B\":\"Hepatitis_B\",\"under.five.deaths\":\"under_5_deaths\",\"Total.expenditure\":\"Total_expenditure\",\n",
    "                    \"HIV.AIDS\":\"HIV_AIDS\",\"thinness..1.19.years\":\"thinness1_19\",\"thinness.5.9.years\":\"thinness5_9\",\n",
    "                      \"Income.composition.of.resources\":\"Inc_com_resouce\" }, inplace = True)\n",
    "data1.columns"
   ]
  },
  {
   "cell_type": "markdown",
   "id": "7cbd7320",
   "metadata": {},
   "source": [
    "### Checking the types of the features and the number of non-null examples.There are missing values on every feature except Country, Year, Status, infant deaths, percentage expenditure, Measles, under-five deaths and HIV/AIDS. Also, Country and Status features are objects. Before feeding the dataset to the model, they need to be dealt."
   ]
  },
  {
   "cell_type": "code",
   "execution_count": 4,
   "id": "73900bbd",
   "metadata": {},
   "outputs": [
    {
     "data": {
      "text/plain": [
       "Country                   0\n",
       "Year                      0\n",
       "Status                    0\n",
       "Life_expectancy           0\n",
       "Adult_Mortality           0\n",
       "infant_deaths             0\n",
       "Alcohol                   0\n",
       "percentage_expenditure    0\n",
       "Hepatitis_B               0\n",
       "Measles                   0\n",
       "BMI                       0\n",
       "under_5_deaths            0\n",
       "Polio                     0\n",
       "Total_expenditure         0\n",
       "Diphtheria                0\n",
       "HIV_AIDS                  0\n",
       "GDP                       0\n",
       "Population                0\n",
       "thinness1_19              0\n",
       "thinness5_9               0\n",
       "Inc_com_resouce           0\n",
       "Schooling                 0\n",
       "dtype: int64"
      ]
     },
     "execution_count": 4,
     "metadata": {},
     "output_type": "execute_result"
    }
   ],
   "source": [
    "data1.isnull().sum()"
   ]
  },
  {
   "cell_type": "code",
   "execution_count": 39,
   "id": "bc23a3f7",
   "metadata": {},
   "outputs": [
    {
     "data": {
      "text/html": [
       "<div>\n",
       "<style scoped>\n",
       "    .dataframe tbody tr th:only-of-type {\n",
       "        vertical-align: middle;\n",
       "    }\n",
       "\n",
       "    .dataframe tbody tr th {\n",
       "        vertical-align: top;\n",
       "    }\n",
       "\n",
       "    .dataframe thead th {\n",
       "        text-align: right;\n",
       "    }\n",
       "</style>\n",
       "<table border=\"1\" class=\"dataframe\">\n",
       "  <thead>\n",
       "    <tr style=\"text-align: right;\">\n",
       "      <th></th>\n",
       "      <th>Country</th>\n",
       "      <th>Year</th>\n",
       "      <th>Status</th>\n",
       "      <th>Life_expectancy</th>\n",
       "      <th>Adult_Mortality</th>\n",
       "      <th>infant_deaths</th>\n",
       "      <th>Alcohol</th>\n",
       "      <th>percentage_expenditure</th>\n",
       "      <th>Hepatitis_B</th>\n",
       "      <th>Measles</th>\n",
       "      <th>...</th>\n",
       "      <th>Polio</th>\n",
       "      <th>Total_expenditure</th>\n",
       "      <th>Diphtheria</th>\n",
       "      <th>HIV_AIDS</th>\n",
       "      <th>GDP</th>\n",
       "      <th>Population</th>\n",
       "      <th>thinness1_19</th>\n",
       "      <th>thinness5_9</th>\n",
       "      <th>Inc_com_resouce</th>\n",
       "      <th>Schooling</th>\n",
       "    </tr>\n",
       "  </thead>\n",
       "  <tbody>\n",
       "    <tr>\n",
       "      <th>0</th>\n",
       "      <td>Afghanistan</td>\n",
       "      <td>2015</td>\n",
       "      <td>Developing</td>\n",
       "      <td>65.0</td>\n",
       "      <td>263.0</td>\n",
       "      <td>62</td>\n",
       "      <td>0.01</td>\n",
       "      <td>71.279624</td>\n",
       "      <td>65</td>\n",
       "      <td>1154</td>\n",
       "      <td>...</td>\n",
       "      <td>6</td>\n",
       "      <td>8.16</td>\n",
       "      <td>65</td>\n",
       "      <td>0.1</td>\n",
       "      <td>584.259210</td>\n",
       "      <td>33736494.0</td>\n",
       "      <td>17.2</td>\n",
       "      <td>17.3</td>\n",
       "      <td>0.479</td>\n",
       "      <td>10.1</td>\n",
       "    </tr>\n",
       "    <tr>\n",
       "      <th>1</th>\n",
       "      <td>Afghanistan</td>\n",
       "      <td>2014</td>\n",
       "      <td>Developing</td>\n",
       "      <td>59.9</td>\n",
       "      <td>271.0</td>\n",
       "      <td>64</td>\n",
       "      <td>0.01</td>\n",
       "      <td>73.523582</td>\n",
       "      <td>62</td>\n",
       "      <td>492</td>\n",
       "      <td>...</td>\n",
       "      <td>58</td>\n",
       "      <td>8.18</td>\n",
       "      <td>62</td>\n",
       "      <td>0.1</td>\n",
       "      <td>612.696514</td>\n",
       "      <td>327582.0</td>\n",
       "      <td>17.5</td>\n",
       "      <td>17.5</td>\n",
       "      <td>0.476</td>\n",
       "      <td>10.0</td>\n",
       "    </tr>\n",
       "    <tr>\n",
       "      <th>2</th>\n",
       "      <td>Afghanistan</td>\n",
       "      <td>2013</td>\n",
       "      <td>Developing</td>\n",
       "      <td>59.9</td>\n",
       "      <td>268.0</td>\n",
       "      <td>66</td>\n",
       "      <td>0.01</td>\n",
       "      <td>73.219243</td>\n",
       "      <td>64</td>\n",
       "      <td>430</td>\n",
       "      <td>...</td>\n",
       "      <td>62</td>\n",
       "      <td>8.13</td>\n",
       "      <td>64</td>\n",
       "      <td>0.1</td>\n",
       "      <td>631.744976</td>\n",
       "      <td>31731688.0</td>\n",
       "      <td>17.7</td>\n",
       "      <td>17.7</td>\n",
       "      <td>0.470</td>\n",
       "      <td>9.9</td>\n",
       "    </tr>\n",
       "    <tr>\n",
       "      <th>3</th>\n",
       "      <td>Afghanistan</td>\n",
       "      <td>2012</td>\n",
       "      <td>Developing</td>\n",
       "      <td>59.5</td>\n",
       "      <td>272.0</td>\n",
       "      <td>69</td>\n",
       "      <td>0.01</td>\n",
       "      <td>78.184215</td>\n",
       "      <td>67</td>\n",
       "      <td>2787</td>\n",
       "      <td>...</td>\n",
       "      <td>67</td>\n",
       "      <td>8.52</td>\n",
       "      <td>67</td>\n",
       "      <td>0.1</td>\n",
       "      <td>669.959000</td>\n",
       "      <td>3696958.0</td>\n",
       "      <td>17.9</td>\n",
       "      <td>18.0</td>\n",
       "      <td>0.463</td>\n",
       "      <td>9.8</td>\n",
       "    </tr>\n",
       "    <tr>\n",
       "      <th>4</th>\n",
       "      <td>Afghanistan</td>\n",
       "      <td>2011</td>\n",
       "      <td>Developing</td>\n",
       "      <td>59.2</td>\n",
       "      <td>275.0</td>\n",
       "      <td>71</td>\n",
       "      <td>0.01</td>\n",
       "      <td>7.097109</td>\n",
       "      <td>68</td>\n",
       "      <td>3013</td>\n",
       "      <td>...</td>\n",
       "      <td>68</td>\n",
       "      <td>7.87</td>\n",
       "      <td>68</td>\n",
       "      <td>0.1</td>\n",
       "      <td>63.537231</td>\n",
       "      <td>2978599.0</td>\n",
       "      <td>18.2</td>\n",
       "      <td>18.2</td>\n",
       "      <td>0.454</td>\n",
       "      <td>9.5</td>\n",
       "    </tr>\n",
       "  </tbody>\n",
       "</table>\n",
       "<p>5 rows × 22 columns</p>\n",
       "</div>"
      ],
      "text/plain": [
       "       Country  Year      Status  Life_expectancy  Adult_Mortality  \\\n",
       "0  Afghanistan  2015  Developing             65.0            263.0   \n",
       "1  Afghanistan  2014  Developing             59.9            271.0   \n",
       "2  Afghanistan  2013  Developing             59.9            268.0   \n",
       "3  Afghanistan  2012  Developing             59.5            272.0   \n",
       "4  Afghanistan  2011  Developing             59.2            275.0   \n",
       "\n",
       "   infant_deaths  Alcohol  percentage_expenditure  Hepatitis_B  Measles  ...  \\\n",
       "0             62     0.01               71.279624           65     1154  ...   \n",
       "1             64     0.01               73.523582           62      492  ...   \n",
       "2             66     0.01               73.219243           64      430  ...   \n",
       "3             69     0.01               78.184215           67     2787  ...   \n",
       "4             71     0.01                7.097109           68     3013  ...   \n",
       "\n",
       "   Polio  Total_expenditure  Diphtheria  HIV_AIDS         GDP  Population  \\\n",
       "0      6               8.16          65       0.1  584.259210  33736494.0   \n",
       "1     58               8.18          62       0.1  612.696514    327582.0   \n",
       "2     62               8.13          64       0.1  631.744976  31731688.0   \n",
       "3     67               8.52          67       0.1  669.959000   3696958.0   \n",
       "4     68               7.87          68       0.1   63.537231   2978599.0   \n",
       "\n",
       "   thinness1_19  thinness5_9  Inc_com_resouce  Schooling  \n",
       "0          17.2         17.3            0.479       10.1  \n",
       "1          17.5         17.5            0.476       10.0  \n",
       "2          17.7         17.7            0.470        9.9  \n",
       "3          17.9         18.0            0.463        9.8  \n",
       "4          18.2         18.2            0.454        9.5  \n",
       "\n",
       "[5 rows x 22 columns]"
      ]
     },
     "execution_count": 39,
     "metadata": {},
     "output_type": "execute_result"
    }
   ],
   "source": [
    "\n",
    "data1.head()"
   ]
  },
  {
   "cell_type": "markdown",
   "id": "153cc915",
   "metadata": {},
   "source": [
    "### Describing the dataset. The dataset consists of examples from 193 different countries from different years. It is shown that minimum value for year is 2000 and maximum is 2015; it consists of 15 year period. Also the status column is binary, can be converted to 1 and 0s. The population column has huge values in it, which is expected. The values can be showed as millions."
   ]
  },
  {
   "cell_type": "code",
   "execution_count": 33,
   "id": "1330315d",
   "metadata": {},
   "outputs": [
    {
     "data": {
      "text/html": [
       "<div>\n",
       "<style scoped>\n",
       "    .dataframe tbody tr th:only-of-type {\n",
       "        vertical-align: middle;\n",
       "    }\n",
       "\n",
       "    .dataframe tbody tr th {\n",
       "        vertical-align: top;\n",
       "    }\n",
       "\n",
       "    .dataframe thead th {\n",
       "        text-align: right;\n",
       "    }\n",
       "</style>\n",
       "<table border=\"1\" class=\"dataframe\">\n",
       "  <thead>\n",
       "    <tr style=\"text-align: right;\">\n",
       "      <th></th>\n",
       "      <th>Year</th>\n",
       "      <th>Life_expectancy</th>\n",
       "      <th>Adult_Mortality</th>\n",
       "      <th>infant_deaths</th>\n",
       "      <th>Alcohol</th>\n",
       "      <th>percentage_expenditure</th>\n",
       "      <th>Hepatitis_B</th>\n",
       "      <th>Measles</th>\n",
       "      <th>BMI</th>\n",
       "      <th>under_5_deaths</th>\n",
       "      <th>Polio</th>\n",
       "      <th>Total_expenditure</th>\n",
       "      <th>Diphtheria</th>\n",
       "      <th>HIV_AIDS</th>\n",
       "      <th>GDP</th>\n",
       "      <th>Population</th>\n",
       "      <th>thinness1_19</th>\n",
       "      <th>thinness5_9</th>\n",
       "      <th>Inc_com_resouce</th>\n",
       "      <th>Schooling</th>\n",
       "    </tr>\n",
       "  </thead>\n",
       "  <tbody>\n",
       "    <tr>\n",
       "      <th>count</th>\n",
       "      <td>2938.000000</td>\n",
       "      <td>2938.000000</td>\n",
       "      <td>2938.000000</td>\n",
       "      <td>2938.000000</td>\n",
       "      <td>2938.000000</td>\n",
       "      <td>2938.000000</td>\n",
       "      <td>2938.000000</td>\n",
       "      <td>2938.000000</td>\n",
       "      <td>2938.000000</td>\n",
       "      <td>2938.000000</td>\n",
       "      <td>2938.000000</td>\n",
       "      <td>2938.000000</td>\n",
       "      <td>2938.000000</td>\n",
       "      <td>2938.000000</td>\n",
       "      <td>2938.000000</td>\n",
       "      <td>2.938000e+03</td>\n",
       "      <td>2938.000000</td>\n",
       "      <td>2938.000000</td>\n",
       "      <td>2938.000000</td>\n",
       "      <td>2938.000000</td>\n",
       "    </tr>\n",
       "    <tr>\n",
       "      <th>mean</th>\n",
       "      <td>2007.518720</td>\n",
       "      <td>69.224932</td>\n",
       "      <td>164.796448</td>\n",
       "      <td>30.303948</td>\n",
       "      <td>4.602861</td>\n",
       "      <td>738.251295</td>\n",
       "      <td>83.022124</td>\n",
       "      <td>2419.592240</td>\n",
       "      <td>38.321247</td>\n",
       "      <td>42.035739</td>\n",
       "      <td>82.617767</td>\n",
       "      <td>5.938190</td>\n",
       "      <td>82.393125</td>\n",
       "      <td>1.742103</td>\n",
       "      <td>7833.522681</td>\n",
       "      <td>1.190791e+07</td>\n",
       "      <td>4.839704</td>\n",
       "      <td>4.870317</td>\n",
       "      <td>0.627551</td>\n",
       "      <td>11.992793</td>\n",
       "    </tr>\n",
       "    <tr>\n",
       "      <th>std</th>\n",
       "      <td>4.613841</td>\n",
       "      <td>9.507640</td>\n",
       "      <td>124.080302</td>\n",
       "      <td>117.926501</td>\n",
       "      <td>3.916288</td>\n",
       "      <td>1987.914858</td>\n",
       "      <td>22.996984</td>\n",
       "      <td>11467.272489</td>\n",
       "      <td>19.927677</td>\n",
       "      <td>160.445548</td>\n",
       "      <td>23.367166</td>\n",
       "      <td>2.400274</td>\n",
       "      <td>23.655562</td>\n",
       "      <td>5.077785</td>\n",
       "      <td>13162.751788</td>\n",
       "      <td>5.292738e+07</td>\n",
       "      <td>4.394535</td>\n",
       "      <td>4.482708</td>\n",
       "      <td>0.204820</td>\n",
       "      <td>3.264381</td>\n",
       "    </tr>\n",
       "    <tr>\n",
       "      <th>min</th>\n",
       "      <td>2000.000000</td>\n",
       "      <td>36.300000</td>\n",
       "      <td>1.000000</td>\n",
       "      <td>0.000000</td>\n",
       "      <td>0.010000</td>\n",
       "      <td>0.000000</td>\n",
       "      <td>1.000000</td>\n",
       "      <td>0.000000</td>\n",
       "      <td>1.000000</td>\n",
       "      <td>0.000000</td>\n",
       "      <td>3.000000</td>\n",
       "      <td>0.370000</td>\n",
       "      <td>2.000000</td>\n",
       "      <td>0.100000</td>\n",
       "      <td>1.681350</td>\n",
       "      <td>3.400000e+01</td>\n",
       "      <td>0.100000</td>\n",
       "      <td>0.100000</td>\n",
       "      <td>0.000000</td>\n",
       "      <td>0.000000</td>\n",
       "    </tr>\n",
       "    <tr>\n",
       "      <th>25%</th>\n",
       "      <td>2004.000000</td>\n",
       "      <td>63.200000</td>\n",
       "      <td>74.000000</td>\n",
       "      <td>0.000000</td>\n",
       "      <td>1.092500</td>\n",
       "      <td>4.685343</td>\n",
       "      <td>82.000000</td>\n",
       "      <td>0.000000</td>\n",
       "      <td>19.400000</td>\n",
       "      <td>0.000000</td>\n",
       "      <td>78.000000</td>\n",
       "      <td>4.370000</td>\n",
       "      <td>78.000000</td>\n",
       "      <td>0.100000</td>\n",
       "      <td>580.486996</td>\n",
       "      <td>6.185775e+05</td>\n",
       "      <td>1.600000</td>\n",
       "      <td>1.600000</td>\n",
       "      <td>0.504250</td>\n",
       "      <td>10.300000</td>\n",
       "    </tr>\n",
       "    <tr>\n",
       "      <th>50%</th>\n",
       "      <td>2008.000000</td>\n",
       "      <td>72.000000</td>\n",
       "      <td>144.000000</td>\n",
       "      <td>3.000000</td>\n",
       "      <td>4.160000</td>\n",
       "      <td>64.912906</td>\n",
       "      <td>92.000000</td>\n",
       "      <td>17.000000</td>\n",
       "      <td>43.000000</td>\n",
       "      <td>4.000000</td>\n",
       "      <td>93.000000</td>\n",
       "      <td>5.938190</td>\n",
       "      <td>93.000000</td>\n",
       "      <td>0.100000</td>\n",
       "      <td>3116.561755</td>\n",
       "      <td>8.222362e+06</td>\n",
       "      <td>3.400000</td>\n",
       "      <td>3.400000</td>\n",
       "      <td>0.662000</td>\n",
       "      <td>12.100000</td>\n",
       "    </tr>\n",
       "    <tr>\n",
       "      <th>75%</th>\n",
       "      <td>2012.000000</td>\n",
       "      <td>75.600000</td>\n",
       "      <td>227.000000</td>\n",
       "      <td>22.000000</td>\n",
       "      <td>7.390000</td>\n",
       "      <td>441.534144</td>\n",
       "      <td>96.000000</td>\n",
       "      <td>360.250000</td>\n",
       "      <td>56.100000</td>\n",
       "      <td>28.000000</td>\n",
       "      <td>97.000000</td>\n",
       "      <td>7.330000</td>\n",
       "      <td>97.000000</td>\n",
       "      <td>0.800000</td>\n",
       "      <td>9780.859485</td>\n",
       "      <td>1.061652e+07</td>\n",
       "      <td>7.100000</td>\n",
       "      <td>7.200000</td>\n",
       "      <td>0.772000</td>\n",
       "      <td>14.100000</td>\n",
       "    </tr>\n",
       "    <tr>\n",
       "      <th>max</th>\n",
       "      <td>2015.000000</td>\n",
       "      <td>89.000000</td>\n",
       "      <td>723.000000</td>\n",
       "      <td>1800.000000</td>\n",
       "      <td>17.870000</td>\n",
       "      <td>19479.911610</td>\n",
       "      <td>99.000000</td>\n",
       "      <td>212183.000000</td>\n",
       "      <td>87.300000</td>\n",
       "      <td>2500.000000</td>\n",
       "      <td>99.000000</td>\n",
       "      <td>17.600000</td>\n",
       "      <td>99.000000</td>\n",
       "      <td>50.600000</td>\n",
       "      <td>119172.741800</td>\n",
       "      <td>1.293859e+09</td>\n",
       "      <td>27.700000</td>\n",
       "      <td>28.600000</td>\n",
       "      <td>0.948000</td>\n",
       "      <td>20.700000</td>\n",
       "    </tr>\n",
       "  </tbody>\n",
       "</table>\n",
       "</div>"
      ],
      "text/plain": [
       "              Year  Life_expectancy  Adult_Mortality  infant_deaths  \\\n",
       "count  2938.000000      2938.000000      2938.000000    2938.000000   \n",
       "mean   2007.518720        69.224932       164.796448      30.303948   \n",
       "std       4.613841         9.507640       124.080302     117.926501   \n",
       "min    2000.000000        36.300000         1.000000       0.000000   \n",
       "25%    2004.000000        63.200000        74.000000       0.000000   \n",
       "50%    2008.000000        72.000000       144.000000       3.000000   \n",
       "75%    2012.000000        75.600000       227.000000      22.000000   \n",
       "max    2015.000000        89.000000       723.000000    1800.000000   \n",
       "\n",
       "           Alcohol  percentage_expenditure  Hepatitis_B        Measles  \\\n",
       "count  2938.000000             2938.000000  2938.000000    2938.000000   \n",
       "mean      4.602861              738.251295    83.022124    2419.592240   \n",
       "std       3.916288             1987.914858    22.996984   11467.272489   \n",
       "min       0.010000                0.000000     1.000000       0.000000   \n",
       "25%       1.092500                4.685343    82.000000       0.000000   \n",
       "50%       4.160000               64.912906    92.000000      17.000000   \n",
       "75%       7.390000              441.534144    96.000000     360.250000   \n",
       "max      17.870000            19479.911610    99.000000  212183.000000   \n",
       "\n",
       "               BMI  under_5_deaths        Polio  Total_expenditure  \\\n",
       "count  2938.000000     2938.000000  2938.000000        2938.000000   \n",
       "mean     38.321247       42.035739    82.617767           5.938190   \n",
       "std      19.927677      160.445548    23.367166           2.400274   \n",
       "min       1.000000        0.000000     3.000000           0.370000   \n",
       "25%      19.400000        0.000000    78.000000           4.370000   \n",
       "50%      43.000000        4.000000    93.000000           5.938190   \n",
       "75%      56.100000       28.000000    97.000000           7.330000   \n",
       "max      87.300000     2500.000000    99.000000          17.600000   \n",
       "\n",
       "        Diphtheria     HIV_AIDS            GDP    Population  thinness1_19  \\\n",
       "count  2938.000000  2938.000000    2938.000000  2.938000e+03   2938.000000   \n",
       "mean     82.393125     1.742103    7833.522681  1.190791e+07      4.839704   \n",
       "std      23.655562     5.077785   13162.751788  5.292738e+07      4.394535   \n",
       "min       2.000000     0.100000       1.681350  3.400000e+01      0.100000   \n",
       "25%      78.000000     0.100000     580.486996  6.185775e+05      1.600000   \n",
       "50%      93.000000     0.100000    3116.561755  8.222362e+06      3.400000   \n",
       "75%      97.000000     0.800000    9780.859485  1.061652e+07      7.100000   \n",
       "max      99.000000    50.600000  119172.741800  1.293859e+09     27.700000   \n",
       "\n",
       "       thinness5_9  Inc_com_resouce    Schooling  \n",
       "count  2938.000000      2938.000000  2938.000000  \n",
       "mean      4.870317         0.627551    11.992793  \n",
       "std       4.482708         0.204820     3.264381  \n",
       "min       0.100000         0.000000     0.000000  \n",
       "25%       1.600000         0.504250    10.300000  \n",
       "50%       3.400000         0.662000    12.100000  \n",
       "75%       7.200000         0.772000    14.100000  \n",
       "max      28.600000         0.948000    20.700000  "
      ]
     },
     "execution_count": 33,
     "metadata": {},
     "output_type": "execute_result"
    }
   ],
   "source": [
    "\n",
    "\n",
    "data1.describe()"
   ]
  },
  {
   "cell_type": "markdown",
   "id": "e9521e0b",
   "metadata": {},
   "source": [
    "## SPLITTING of data into train and test\n"
   ]
  },
  {
   "cell_type": "code",
   "execution_count": 5,
   "id": "6898ce7e",
   "metadata": {},
   "outputs": [],
   "source": [
    "#spliiting the data into train and test 90-10 ratio\n",
    "\n",
    "data = data1[:2056] \n",
    "data_test = data1[2056:]"
   ]
  },
  {
   "cell_type": "markdown",
   "id": "3ded01cb",
   "metadata": {},
   "source": [
    "## shape before dropping missing columns"
   ]
  },
  {
   "cell_type": "code",
   "execution_count": 6,
   "id": "961227f7",
   "metadata": {},
   "outputs": [
    {
     "data": {
      "text/plain": [
       "(2056, 22)"
      ]
     },
     "execution_count": 6,
     "metadata": {},
     "output_type": "execute_result"
    }
   ],
   "source": [
    "\n",
    "\n",
    "data.shape"
   ]
  },
  {
   "cell_type": "code",
   "execution_count": 7,
   "id": "2204abd6",
   "metadata": {},
   "outputs": [
    {
     "data": {
      "text/plain": [
       "Index(['Country', 'Year', 'Status', 'Life_expectancy', 'Adult_Mortality',\n",
       "       'infant_deaths', 'Alcohol', 'percentage_expenditure', 'Hepatitis_B',\n",
       "       'Measles', 'BMI', 'under_5_deaths', 'Polio', 'Total_expenditure',\n",
       "       'Diphtheria', 'HIV_AIDS', 'GDP', 'Population', 'thinness1_19',\n",
       "       'thinness5_9', 'Inc_com_resouce', 'Schooling'],\n",
       "      dtype='object')"
      ]
     },
     "execution_count": 7,
     "metadata": {},
     "output_type": "execute_result"
    }
   ],
   "source": [
    "data.columns"
   ]
  },
  {
   "cell_type": "markdown",
   "id": "43436633",
   "metadata": {},
   "source": [
    "## Simple Linear Regression"
   ]
  },
  {
   "cell_type": "markdown",
   "id": "9088e1a6",
   "metadata": {},
   "source": [
    "### Using Linear Regression as the first model. Model is trained on the train set and made predictions for test. Mean Squared Error, R2, RMSE is used to compute the loss."
   ]
  },
  {
   "cell_type": "code",
   "execution_count": 8,
   "id": "db7c31b7",
   "metadata": {},
   "outputs": [
    {
     "data": {
      "text/html": [
       "<div>\n",
       "<style scoped>\n",
       "    .dataframe tbody tr th:only-of-type {\n",
       "        vertical-align: middle;\n",
       "    }\n",
       "\n",
       "    .dataframe tbody tr th {\n",
       "        vertical-align: top;\n",
       "    }\n",
       "\n",
       "    .dataframe thead th {\n",
       "        text-align: right;\n",
       "    }\n",
       "</style>\n",
       "<table border=\"1\" class=\"dataframe\">\n",
       "  <thead>\n",
       "    <tr style=\"text-align: right;\">\n",
       "      <th></th>\n",
       "      <th>Predictor</th>\n",
       "      <th>R2</th>\n",
       "      <th>RMSE</th>\n",
       "      <th>MAE</th>\n",
       "    </tr>\n",
       "  </thead>\n",
       "  <tbody>\n",
       "    <tr>\n",
       "      <th>1</th>\n",
       "      <td>infant_deaths</td>\n",
       "      <td>-0.371321</td>\n",
       "      <td>10.125749</td>\n",
       "      <td>8.051379</td>\n",
       "    </tr>\n",
       "    <tr>\n",
       "      <th>7</th>\n",
       "      <td>under_5_deaths</td>\n",
       "      <td>-0.353185</td>\n",
       "      <td>10.046908</td>\n",
       "      <td>7.978132</td>\n",
       "    </tr>\n",
       "    <tr>\n",
       "      <th>13</th>\n",
       "      <td>Population</td>\n",
       "      <td>-0.080852</td>\n",
       "      <td>9.438539</td>\n",
       "      <td>7.881712</td>\n",
       "    </tr>\n",
       "    <tr>\n",
       "      <th>5</th>\n",
       "      <td>Measles</td>\n",
       "      <td>-0.052608</td>\n",
       "      <td>9.325350</td>\n",
       "      <td>7.773569</td>\n",
       "    </tr>\n",
       "    <tr>\n",
       "      <th>4</th>\n",
       "      <td>Hepatitis_B</td>\n",
       "      <td>-0.045223</td>\n",
       "      <td>9.291684</td>\n",
       "      <td>7.623226</td>\n",
       "    </tr>\n",
       "    <tr>\n",
       "      <th>9</th>\n",
       "      <td>Total_expenditure</td>\n",
       "      <td>0.004648</td>\n",
       "      <td>9.063879</td>\n",
       "      <td>7.372646</td>\n",
       "    </tr>\n",
       "    <tr>\n",
       "      <th>3</th>\n",
       "      <td>percentage_expenditure</td>\n",
       "      <td>0.098657</td>\n",
       "      <td>8.619344</td>\n",
       "      <td>7.153721</td>\n",
       "    </tr>\n",
       "    <tr>\n",
       "      <th>2</th>\n",
       "      <td>Alcohol</td>\n",
       "      <td>0.111429</td>\n",
       "      <td>8.537448</td>\n",
       "      <td>6.901496</td>\n",
       "    </tr>\n",
       "    <tr>\n",
       "      <th>12</th>\n",
       "      <td>GDP</td>\n",
       "      <td>0.127960</td>\n",
       "      <td>8.471936</td>\n",
       "      <td>6.979411</td>\n",
       "    </tr>\n",
       "    <tr>\n",
       "      <th>15</th>\n",
       "      <td>thinness5_9</td>\n",
       "      <td>0.148440</td>\n",
       "      <td>8.344766</td>\n",
       "      <td>6.761590</td>\n",
       "    </tr>\n",
       "    <tr>\n",
       "      <th>14</th>\n",
       "      <td>thinness1_19</td>\n",
       "      <td>0.152289</td>\n",
       "      <td>8.318276</td>\n",
       "      <td>6.741188</td>\n",
       "    </tr>\n",
       "    <tr>\n",
       "      <th>8</th>\n",
       "      <td>Polio</td>\n",
       "      <td>0.159482</td>\n",
       "      <td>8.272290</td>\n",
       "      <td>6.527047</td>\n",
       "    </tr>\n",
       "    <tr>\n",
       "      <th>10</th>\n",
       "      <td>Diphtheria</td>\n",
       "      <td>0.212799</td>\n",
       "      <td>8.016558</td>\n",
       "      <td>6.226471</td>\n",
       "    </tr>\n",
       "    <tr>\n",
       "      <th>11</th>\n",
       "      <td>HIV_AIDS</td>\n",
       "      <td>0.230556</td>\n",
       "      <td>7.926743</td>\n",
       "      <td>6.441747</td>\n",
       "    </tr>\n",
       "    <tr>\n",
       "      <th>6</th>\n",
       "      <td>BMI</td>\n",
       "      <td>0.287095</td>\n",
       "      <td>7.577436</td>\n",
       "      <td>5.817905</td>\n",
       "    </tr>\n",
       "    <tr>\n",
       "      <th>0</th>\n",
       "      <td>Adult_Mortality</td>\n",
       "      <td>0.423648</td>\n",
       "      <td>6.825774</td>\n",
       "      <td>4.942629</td>\n",
       "    </tr>\n",
       "    <tr>\n",
       "      <th>16</th>\n",
       "      <td>Inc_com_resouce</td>\n",
       "      <td>0.460392</td>\n",
       "      <td>6.519159</td>\n",
       "      <td>4.466621</td>\n",
       "    </tr>\n",
       "    <tr>\n",
       "      <th>17</th>\n",
       "      <td>Schooling</td>\n",
       "      <td>0.499567</td>\n",
       "      <td>6.291512</td>\n",
       "      <td>4.735465</td>\n",
       "    </tr>\n",
       "  </tbody>\n",
       "</table>\n",
       "</div>"
      ],
      "text/plain": [
       "                 Predictor        R2       RMSE       MAE\n",
       "1            infant_deaths -0.371321  10.125749  8.051379\n",
       "7           under_5_deaths -0.353185  10.046908  7.978132\n",
       "13              Population -0.080852   9.438539  7.881712\n",
       "5                  Measles -0.052608   9.325350  7.773569\n",
       "4              Hepatitis_B -0.045223   9.291684  7.623226\n",
       "9        Total_expenditure  0.004648   9.063879  7.372646\n",
       "3   percentage_expenditure  0.098657   8.619344  7.153721\n",
       "2                  Alcohol  0.111429   8.537448  6.901496\n",
       "12                     GDP  0.127960   8.471936  6.979411\n",
       "15             thinness5_9  0.148440   8.344766  6.761590\n",
       "14            thinness1_19  0.152289   8.318276  6.741188\n",
       "8                    Polio  0.159482   8.272290  6.527047\n",
       "10              Diphtheria  0.212799   8.016558  6.226471\n",
       "11                HIV_AIDS  0.230556   7.926743  6.441747\n",
       "6                      BMI  0.287095   7.577436  5.817905\n",
       "0          Adult_Mortality  0.423648   6.825774  4.942629\n",
       "16         Inc_com_resouce  0.460392   6.519159  4.466621\n",
       "17               Schooling  0.499567   6.291512  4.735465"
      ]
     },
     "execution_count": 8,
     "metadata": {},
     "output_type": "execute_result"
    }
   ],
   "source": [
    "SLR_list = []                                 #creating a list to store tuple of predictor,R-square,RMSE and MAE.\n",
    "regr = linear_model.LinearRegression()          #initializing the sklearn linear regression model\n",
    "for i in range(4,np.shape(data.columns)[0]):    #iterating through all columns of dataset except id,date and price.\n",
    "    scores1 = cross_val_score(regr,pd.DataFrame(data.iloc[:,i]),pd.DataFrame(data.Life_expectancy),cv=10,scoring='r2')                          #cv score with R-square metric\n",
    "    scores2 = cross_val_score(regr,pd.DataFrame(data.iloc[:,i]),pd.DataFrame(data.Life_expectancy),cv=10,scoring='neg_root_mean_squared_error') #cv score with RMSE metric\n",
    "    scores3 = cross_val_score(regr,pd.DataFrame(data.iloc[:,i]),pd.DataFrame(data.Life_expectancy),cv=10,scoring='neg_mean_absolute_error')     #cv score with MAE metric\n",
    "    SLR_list.append([data.columns[i],scores1.mean(),np.abs(scores2.mean()),np.abs(scores3.mean())])   #appending  the list to store tuple of predictor,R-square,RMSE and MAE.\n",
    "SLR_Result = pd.DataFrame(SLR_list, columns = [\"Predictor\",\"R2\",\"RMSE\",\"MAE\"])  #conerting the list to pandas dataframe\n",
    "SLR_Result = SLR_Result.sort_values(\"R2\")       #sorting a dataframe by R2 column\n",
    "SLR_Result \n"
   ]
  },
  {
   "cell_type": "markdown",
   "id": "c2da095c",
   "metadata": {},
   "source": [
    "# Multiple linear regression"
   ]
  },
  {
   "cell_type": "markdown",
   "id": "6db14dd6",
   "metadata": {},
   "source": [
    "### The calculations for multiple regression are almost identical to those for simple linear regression, except that the test statistic (MSR)/(MSE) has an F(k, n – k – 1) distribution. "
   ]
  },
  {
   "cell_type": "code",
   "execution_count": 9,
   "id": "73a60667",
   "metadata": {},
   "outputs": [],
   "source": [
    "def model_house(X,y,model_number=None):\n",
    "    model=LinearRegression()\n",
    "    RMSE = -cross_val_score(model, X, y, cv=10, scoring='neg_root_mean_squared_error').mean() \n",
    "    r2 = cross_val_score(model, X, y, cv=10, scoring='r2').mean()   #meteric used are RMSE and r_square\n",
    "    adj_r2=np.round(r2-((X.shape[1])-1)/(len(X)-(X.shape[1]))*(1-r2),2)\n",
    "    results=print('Model',model_number,':\\nRMSE:',np.round(RMSE,4),'\\nr_square:',np.round(r2,2),'\\nAdjusted r2:',adj_r2)\n",
    "    return(results)"
   ]
  },
  {
   "cell_type": "code",
   "execution_count": 10,
   "id": "7d6dadb2",
   "metadata": {},
   "outputs": [],
   "source": [
    "X_train=data[['Country', 'Year', 'Status', 'Adult_Mortality',\n",
    "       'infant_deaths', 'Alcohol', 'percentage_expenditure', 'Hepatitis_B',\n",
    "       'Measles', 'BMI', 'under_5_deaths', 'Polio', 'Total_expenditure',\n",
    "       'Diphtheria', 'HIV_AIDS', 'GDP', 'Population', 'thinness1_19',\n",
    "       'thinness5_9', 'Schooling',\"Inc_com_resouce\"]]\n",
    "\n",
    "y_train = data[['Life_expectancy']]"
   ]
  },
  {
   "cell_type": "markdown",
   "id": "72d506f8",
   "metadata": {},
   "source": [
    "# Model 1 "
   ]
  },
  {
   "cell_type": "markdown",
   "id": "70159331",
   "metadata": {},
   "source": [
    "### Using the method outlined above, the first model was created:"
   ]
  },
  {
   "cell_type": "code",
   "execution_count": 11,
   "id": "e142955c",
   "metadata": {},
   "outputs": [
    {
     "name": "stdout",
     "output_type": "stream",
     "text": [
      "Model 2 :\n",
      "RMSE: 4.1742 \n",
      "r_square: 0.78 \n",
      "Adjusted r2: 0.78\n"
     ]
    }
   ],
   "source": [
    "X=X_train[[ 'Adult_Mortality',\n",
    "       'infant_deaths', 'Alcohol', 'percentage_expenditure', 'Hepatitis_B',\n",
    "       'Measles', 'BMI', 'under_5_deaths', 'Polio', 'Total_expenditure',\n",
    "       'Diphtheria', 'HIV_AIDS', 'GDP', 'Population', 'thinness1_19',\n",
    "       'thinness5_9', 'Schooling',\"Inc_com_resouce\"]]    #Predictor\n",
    "y=np.array(y_train) #Target\n",
    "model_house(X,y,2)"
   ]
  },
  {
   "cell_type": "markdown",
   "id": "19f1e160",
   "metadata": {},
   "source": [
    "# Model - 2"
   ]
  },
  {
   "cell_type": "code",
   "execution_count": 12,
   "id": "cc96cdd7",
   "metadata": {},
   "outputs": [
    {
     "name": "stdout",
     "output_type": "stream",
     "text": [
      "Model 2 :\n",
      "RMSE: 4.1684 \n",
      "r_square: 0.78 \n",
      "Adjusted r2: 0.78\n"
     ]
    }
   ],
   "source": [
    "X=X_train[['Adult_Mortality', 'Alcohol', 'percentage_expenditure', 'Hepatitis_B', 'BMI', 'Polio',\n",
    "       'Diphtheria', 'HIV_AIDS', 'GDP', 'Schooling',\"Inc_com_resouce\"]]    #Predictor\n",
    "y=np.array(y_train) #Target\n",
    "model_house(X,y,2)"
   ]
  },
  {
   "cell_type": "markdown",
   "id": "1c2fc469",
   "metadata": {},
   "source": [
    "# MODEL - 3"
   ]
  },
  {
   "cell_type": "code",
   "execution_count": 13,
   "id": "9cbcdea3",
   "metadata": {},
   "outputs": [
    {
     "name": "stdout",
     "output_type": "stream",
     "text": [
      "Model 2 :\n",
      "RMSE: 4.1547 \n",
      "r_square: 0.78 \n",
      "Adjusted r2: 0.78\n"
     ]
    }
   ],
   "source": [
    "X=X_train[[\"Schooling\",\"Inc_com_resouce\",\"Adult_Mortality\",\"BMI\",\"HIV_AIDS\",\"Diphtheria\",\"Polio\",\"thinness1_19\",\"thinness5_9\",\"GDP\",\"percentage_expenditure\"]]    #Predictor\n",
    "y=np.array(y_train) #Target\n",
    "model_house(X,y,2)"
   ]
  },
  {
   "cell_type": "markdown",
   "id": "81116edc",
   "metadata": {},
   "source": [
    "# MODEL - 4"
   ]
  },
  {
   "cell_type": "code",
   "execution_count": 14,
   "id": "a366c4f4",
   "metadata": {},
   "outputs": [
    {
     "name": "stdout",
     "output_type": "stream",
     "text": [
      "Model 2 :\n",
      "RMSE: 4.1945 \n",
      "r_square: 0.78 \n",
      "Adjusted r2: 0.78\n"
     ]
    }
   ],
   "source": [
    "\n",
    "X=X_train[[\"Schooling\",\"Inc_com_resouce\",\"Adult_Mortality\",\"BMI\",\"HIV_AIDS\",\"Diphtheria\",\"Polio\",\"thinness1_19\",\"thinness5_9\",\"GDP\",\"percentage_expenditure\",\"Alcohol\",\"Hepatitis_B\",\"Total_expenditure\",\"Measles\",\"Population\"]]    #Predictor\n",
    "y=np.array(y_train) #Target\n",
    "model_house(X,y,2)"
   ]
  },
  {
   "cell_type": "markdown",
   "id": "d0369496",
   "metadata": {},
   "source": [
    "# Decision Tree Model Fitting"
   ]
  },
  {
   "cell_type": "markdown",
   "id": "e21572ec",
   "metadata": {},
   "source": [
    "# Model 1"
   ]
  },
  {
   "cell_type": "code",
   "execution_count": 15,
   "id": "4163eb4d",
   "metadata": {},
   "outputs": [],
   "source": [
    "from sklearn.model_selection import GridSearchCV\n",
    "X = data[['Adult_Mortality','infant_deaths', 'Alcohol', 'percentage_expenditure', 'Hepatitis_B', 'Measles', 'BMI', 'under_5_deaths', 'Polio', 'Total_expenditure',\n",
    "        'Diphtheria', 'HIV_AIDS', 'GDP', 'Population', 'thinness1_19',\n",
    "       'thinness5_9', 'Schooling',\"Inc_com_resouce\"]]# zipcode, view\n",
    "y = data['Life_expectancy']\n",
    "Dtree = DecisionTreeRegressor()\n",
    "Dtree.fit = Dtree.fit(X,y)"
   ]
  },
  {
   "cell_type": "code",
   "execution_count": 16,
   "id": "66337aae",
   "metadata": {},
   "outputs": [
    {
     "name": "stdout",
     "output_type": "stream",
     "text": [
      "RMSE is:  3.8723907494947185\n",
      "Rsquare is:  0.8115127944186391\n"
     ]
    }
   ],
   "source": [
    "from sklearn.tree import DecisionTreeRegressor # importing DecisionTreeRegressor module from sklearn library\n",
    "\n",
    "Dtree = DecisionTreeRegressor(max_depth = 4, min_samples_leaf=5)  #  defining decison tree parameters, max_dept and leaf\n",
    "\n",
    "R_square = cross_val_score(Dtree,X,y,cv = 10,scoring = \"r2\")\n",
    "\n",
    "scores = cross_val_score(Dtree,X,y,cv = 10,scoring = \"neg_mean_squared_error\")\n",
    "\n",
    "RMSE = np.sqrt(abs(scores.mean()))\n",
    "\n",
    "RSquare = R_square.mean()\n",
    "\n",
    "print(\"RMSE is: \",RMSE)\n",
    "print(\"Rsquare is: \",RSquare)"
   ]
  },
  {
   "cell_type": "markdown",
   "id": "02b34680",
   "metadata": {},
   "source": [
    "# Model 2"
   ]
  },
  {
   "cell_type": "code",
   "execution_count": 17,
   "id": "643583c4",
   "metadata": {},
   "outputs": [],
   "source": [
    "from sklearn.model_selection import GridSearchCV\n",
    "X = data[['Adult_Mortality', 'Alcohol', 'percentage_expenditure', 'Hepatitis_B', 'BMI', 'Polio',\n",
    "       'Diphtheria', 'HIV_AIDS', 'GDP', 'Schooling',\"Inc_com_resouce\"]]\n",
    "y = data['Life_expectancy']\n",
    "Dtree = DecisionTreeRegressor()\n",
    "Dtree.fit = Dtree.fit(X,y)"
   ]
  },
  {
   "cell_type": "code",
   "execution_count": 18,
   "id": "15d4f417",
   "metadata": {},
   "outputs": [
    {
     "name": "stdout",
     "output_type": "stream",
     "text": [
      "RMSE is:  3.7088170809426515\n",
      "Rsquare is:  0.8260301375680648\n"
     ]
    }
   ],
   "source": [
    "\n",
    "Dtree = DecisionTreeRegressor(max_depth = 4, min_samples_leaf=5)  #  defining decison tree parameters, max_dept and leaf\n",
    "\n",
    "R_square = cross_val_score(Dtree,X,y,cv = 10,scoring = \"r2\")\n",
    "\n",
    "scores = cross_val_score(Dtree,X,y,cv = 10,scoring = \"neg_mean_squared_error\")\n",
    "\n",
    "RMSE = np.sqrt(abs(scores.mean()))\n",
    "\n",
    "RSquare = R_square.mean()\n",
    "\n",
    "print(\"RMSE is: \",RMSE)\n",
    "print(\"Rsquare is: \",RSquare)"
   ]
  },
  {
   "cell_type": "markdown",
   "id": "e5c72c58",
   "metadata": {},
   "source": [
    "# Random Forest"
   ]
  },
  {
   "cell_type": "markdown",
   "id": "d8d97753",
   "metadata": {},
   "source": [
    "# Model 1"
   ]
  },
  {
   "cell_type": "code",
   "execution_count": 19,
   "id": "3bddd212",
   "metadata": {},
   "outputs": [
    {
     "data": {
      "text/plain": [
       "RandomForestRegressor(n_estimators=20, random_state=0)"
      ]
     },
     "execution_count": 19,
     "metadata": {},
     "output_type": "execute_result"
    }
   ],
   "source": [
    "\n",
    "X = X_train[['Adult_Mortality','infant_deaths', 'Alcohol', 'percentage_expenditure', 'Hepatitis_B', 'Measles', 'BMI', 'under_5_deaths', 'Polio', 'Total_expenditure',\n",
    "        'Diphtheria', 'HIV_AIDS', 'GDP', 'Population', 'thinness1_19',\n",
    "       'thinness5_9', 'Schooling',\"Inc_com_resouce\"]]\n",
    "y = y_train['Life_expectancy']\n",
    "regressor = RandomForestRegressor()\n",
    "\n",
    "regressor = RandomForestRegressor(n_estimators=20, random_state=0)\n",
    "regressor.fit(X,y)"
   ]
  },
  {
   "cell_type": "code",
   "execution_count": 20,
   "id": "2ad28f52",
   "metadata": {},
   "outputs": [
    {
     "name": "stdout",
     "output_type": "stream",
     "text": [
      "Mean Absolute Error: 0.44926377847855675\n",
      "Mean Squared Error: 0.5902969826356581\n",
      "Root Mean Squared Error: 0.7683078696952531\n"
     ]
    }
   ],
   "source": [
    "from sklearn.ensemble import RandomForestRegressor\n",
    "from sklearn import metrics\n",
    "\n",
    "y_pred = regressor.predict(X)\n",
    "print('Mean Absolute Error:', metrics.mean_absolute_error(y_train, y_pred))\n",
    "print('Mean Squared Error:', metrics.mean_squared_error(y_train, y_pred))\n",
    "print('Root Mean Squared Error:', np.sqrt(metrics.mean_squared_error(y_train, y_pred)))"
   ]
  },
  {
   "cell_type": "markdown",
   "id": "147dcf38",
   "metadata": {},
   "source": [
    "# Model 2"
   ]
  },
  {
   "cell_type": "code",
   "execution_count": 21,
   "id": "2e27e75b",
   "metadata": {},
   "outputs": [
    {
     "name": "stdout",
     "output_type": "stream",
     "text": [
      "Mean Absolute Error: 0.4932703479486939\n",
      "Mean Squared Error: 0.6948275470672189\n",
      "Root Mean Squared Error: 0.8335631632139336\n"
     ]
    }
   ],
   "source": [
    "\n",
    "X = X_train[['Adult_Mortality', 'Alcohol', 'percentage_expenditure', 'Hepatitis_B', 'BMI', 'Polio',\n",
    "       'Diphtheria', 'HIV_AIDS', 'GDP', 'Schooling',\"Inc_com_resouce\"]]\n",
    "y = y_train['Life_expectancy']\n",
    "regressor = RandomForestRegressor(n_estimators=20, random_state=0)\n",
    "regressor.fit(X, y)\n",
    "y_pred = regressor.predict(X)\n",
    "print('Mean Absolute Error:', metrics.mean_absolute_error(y_train, y_pred))\n",
    "print('Mean Squared Error:', metrics.mean_squared_error(y_train, y_pred))\n",
    "print('Root Mean Squared Error:', np.sqrt(metrics.mean_squared_error(y_train, y_pred)))"
   ]
  },
  {
   "cell_type": "markdown",
   "id": "74f15c05",
   "metadata": {},
   "source": [
    "## Bagging and Boosting"
   ]
  },
  {
   "cell_type": "markdown",
   "id": "7e479942",
   "metadata": {},
   "source": [
    "## Model 1"
   ]
  },
  {
   "cell_type": "code",
   "execution_count": 26,
   "id": "3f2dbc0f",
   "metadata": {},
   "outputs": [
    {
     "name": "stdout",
     "output_type": "stream",
     "text": [
      "(2056, 22) (2056,)\n"
     ]
    }
   ],
   "source": [
    "# test regression dataset\n",
    "from sklearn.datasets import make_regression\n",
    "# define dataset\n",
    "X, y = make_regression(n_samples=2056, n_features=22, n_informative=15, noise=0.1, random_state=5)\n",
    "# summarize the dataset\n",
    "print(X.shape, y.shape)"
   ]
  },
  {
   "cell_type": "markdown",
   "id": "e6f82c90",
   "metadata": {},
   "source": [
    "# Model Testing on Test Data"
   ]
  },
  {
   "cell_type": "code",
   "execution_count": 27,
   "id": "ee3c2fa0",
   "metadata": {},
   "outputs": [],
   "source": [
    "X_test=data_test[['Country', 'Year', 'Status', 'Adult_Mortality',\n",
    "       'infant_deaths', 'Alcohol', 'percentage_expenditure', 'Hepatitis_B',\n",
    "       'Measles', 'BMI', 'under_5_deaths', 'Polio', 'Total_expenditure',\n",
    "       'Diphtheria', 'HIV_AIDS', 'GDP', 'Population', 'thinness1_19',\n",
    "       'thinness5_9', 'Schooling',\"Inc_com_resouce\"]]\n",
    "\n",
    "y_test = data_test[['Life_expectancy']]"
   ]
  },
  {
   "cell_type": "markdown",
   "id": "e81db50b",
   "metadata": {},
   "source": [
    "# Model 2 fitting on test data"
   ]
  },
  {
   "cell_type": "markdown",
   "id": "6640093a",
   "metadata": {},
   "source": [
    "# Linear regression"
   ]
  },
  {
   "cell_type": "code",
   "execution_count": 28,
   "id": "5fbb78a0",
   "metadata": {},
   "outputs": [
    {
     "name": "stdout",
     "output_type": "stream",
     "text": [
      "Model 2 :\n",
      "RMSE: 4.6768 \n",
      "r_square: 0.64 \n",
      "Adjusted r2: 0.64\n"
     ]
    }
   ],
   "source": [
    "X=X_test[['Adult_Mortality', 'Alcohol', 'percentage_expenditure', 'Hepatitis_B', 'BMI', 'Polio',\n",
    "       'Diphtheria', 'HIV_AIDS', 'GDP', 'Schooling',\"Inc_com_resouce\"]]    #Predictor\n",
    "y=np.array(y_test) #Target\n",
    "model_house(X,y,2) "
   ]
  },
  {
   "cell_type": "markdown",
   "id": "60e1321c",
   "metadata": {},
   "source": [
    "# Decision Tree"
   ]
  },
  {
   "cell_type": "code",
   "execution_count": 29,
   "id": "643dc185",
   "metadata": {},
   "outputs": [],
   "source": [
    "X =data_test [['Adult_Mortality', 'Alcohol', 'percentage_expenditure', 'Hepatitis_B', 'BMI', 'Polio',\n",
    "       'Diphtheria', 'HIV_AIDS', 'GDP', 'Schooling',\"Inc_com_resouce\"]]\n",
    "y = data_test['Life_expectancy']\n",
    "Dtree = DecisionTreeRegressor()\n",
    "Dtree.fit = Dtree.fit(X,y)"
   ]
  },
  {
   "cell_type": "code",
   "execution_count": 30,
   "id": "9a9b9918",
   "metadata": {},
   "outputs": [
    {
     "name": "stdout",
     "output_type": "stream",
     "text": [
      "RMSE is:  5.373043640444159\n",
      "Rsquare is:  0.5942711427026749\n"
     ]
    }
   ],
   "source": [
    "\n",
    "Dtree = DecisionTreeRegressor(max_depth = 4, min_samples_leaf=5)  #  defining decison tree parameters, max_dept and leaf\n",
    "\n",
    "R_square = cross_val_score(Dtree,X,y,cv = 10,scoring = \"r2\")\n",
    "\n",
    "scores = cross_val_score(Dtree,X,y,cv = 10,scoring = \"neg_mean_squared_error\")\n",
    "\n",
    "RMSE = np.sqrt(abs(scores.mean()))\n",
    "\n",
    "RSquare = R_square.mean()\n",
    "\n",
    "print(\"RMSE is: \",RMSE)\n",
    "print(\"Rsquare is: \",RSquare)"
   ]
  },
  {
   "cell_type": "markdown",
   "id": "28126f90",
   "metadata": {},
   "source": [
    "# Random Forest"
   ]
  },
  {
   "cell_type": "code",
   "execution_count": 32,
   "id": "144f0d8f",
   "metadata": {},
   "outputs": [
    {
     "name": "stdout",
     "output_type": "stream",
     "text": [
      "Mean Absolute Error: 2.358598297925727\n",
      "Mean Squared Error: 11.960469305194302\n",
      "Root Mean Squared Error: 3.4583911440428916\n"
     ]
    }
   ],
   "source": [
    "\n",
    "X = X_test[['Adult_Mortality', 'Alcohol', 'percentage_expenditure', 'Hepatitis_B', 'BMI', 'Polio',\n",
    "       'Diphtheria', 'HIV_AIDS', 'GDP', 'Schooling',\"Inc_com_resouce\"]]\n",
    "y = y_test['Life_expectancy']\n",
    "\n",
    "y_pred = regressor.predict(X)\n",
    "print('Mean Absolute Error:', metrics.mean_absolute_error(y_test, y_pred))\n",
    "print('Mean Squared Error:', metrics.mean_squared_error(y_test, y_pred))\n",
    "print('Root Mean Squared Error:', np.sqrt(metrics.mean_squared_error(y_test, y_pred)))"
   ]
  },
  {
   "cell_type": "markdown",
   "id": "eb5c3d18",
   "metadata": {},
   "source": [
    "### It can be seen from the results shown from the 3 Algorithms (Linear Regression, Random Forest Regressor,Decision Tree ) that Living in any other continent aside from Africa has a lot of influence on how long you live also factors such as the year we are in also has a positive effect on your life expectancy while and HiV/AIDs have negative effect with a magnitude more than that of living in outside Africa.\n",
    "\n",
    "### Surprisingly, Alcohol also has a positive effect on life expectancy as well.\n",
    "\n"
   ]
  },
  {
   "cell_type": "markdown",
   "id": "a95e3f2d",
   "metadata": {},
   "source": [
    "## CONCLUSION"
   ]
  },
  {
   "cell_type": "markdown",
   "id": "404386f7",
   "metadata": {},
   "source": [
    "### The best regression model to predict life expectancy is the random forest regression model using the default hyperparameters. All of the data features were included as the random forest regression models can handle multicollinearity. The model does not appear to overfit the training set. The random forest testing set R2 is significantly higher than the other regressions."
   ]
  }
 ],
 "metadata": {
  "kernelspec": {
   "display_name": "Python 3",
   "language": "python",
   "name": "python3"
  },
  "language_info": {
   "codemirror_mode": {
    "name": "ipython",
    "version": 3
   },
   "file_extension": ".py",
   "mimetype": "text/x-python",
   "name": "python",
   "nbconvert_exporter": "python",
   "pygments_lexer": "ipython3",
   "version": "3.8.8"
  }
 },
 "nbformat": 4,
 "nbformat_minor": 5
}
